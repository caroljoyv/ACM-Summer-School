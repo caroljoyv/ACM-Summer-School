{
 "cells": [
  {
   "cell_type": "code",
   "execution_count": 18,
   "id": "3d3993b0-d83b-423a-b4e0-12108875bf99",
   "metadata": {},
   "outputs": [
    {
     "name": "stdout",
     "output_type": "stream",
     "text": [
      "\n",
      "\n",
      "0 1 2 3 4 5 6 7 \n",
      "\n",
      "1 1 2 3 4 4 5 6 \n",
      "\n",
      "2 1 2 3 4 5 4 5 \n",
      "\n",
      "3 2 1 2 3 4 5 4 \n",
      "\n",
      "4 3 2 1 2 3 4 5 \n",
      "\n",
      "5 4 3 2 1 2 3 4 \n",
      "\n",
      "6 5 4 3 2 2 3 3 \n",
      "\n",
      "7 6 5 4 3 3 2 3 "
     ]
    }
   ],
   "source": [
    "fname=\"stringSimilarityInput.txt\"   \n",
    "with open(fname) as reader:\n",
    "    S1=reader.readline()\n",
    "    S2=reader.readline()\n",
    "\n",
    "m=len(S1)\n",
    "n=len(S2)\n",
    "D=[[0 for i in range(n+1)] for j in range(m+1)]\n",
    "\n",
    "#Initialize values for row zero and column zero here.\n",
    "for i in range(n):\n",
    "    D[i][0] = i\n",
    "for j in range(m):\n",
    "    D[0][j] = j \n",
    "\n",
    "row=0\n",
    "col=0\n",
    "while((row<m) or (col<n)):\n",
    "    if (row<m):\n",
    "        row=row+1\n",
    "    if (col<n):\n",
    "        col=col+1\n",
    "    for j in range(row,n+1):\n",
    "        if (S1[row-1]==S2[j-1]):\n",
    "            #Compute D[row][j].\n",
    "            D[row][j] = D[row-1][j-1]\n",
    "            \n",
    "        else:\n",
    "            #Compute D[row][j].\n",
    "            D[row][j] = 1 + min(D[row][j-1], D[row-1][j],D[row-1][j-1])\n",
    "            \n",
    "                         \n",
    "    for i in range(col+1,m+1):\n",
    "        if (S1[i-1]==S2[col-1]):\n",
    "            #Compute D[i][col].\n",
    "            D[i][col] = D[i-1][col-1]\n",
    "        else:\n",
    "            #Compute D[i][col].\n",
    "            D[i][col] = 1 + min(D[i][col-1], D[i-1][col],D[i-1][col-1])\n",
    "\n",
    "for i in range(0,m):\n",
    "    print('\\n')\n",
    "    for j in range(0,n):\n",
    "        print(D[i][j],end=' ')\n",
    "        "
   ]
  },
  {
   "cell_type": "code",
   "execution_count": null,
   "id": "44cd0530-9f76-4198-a0f4-57e730e9e51f",
   "metadata": {},
   "outputs": [],
   "source": []
  }
 ],
 "metadata": {
  "kernelspec": {
   "display_name": "env",
   "language": "python",
   "name": "env"
  },
  "language_info": {
   "codemirror_mode": {
    "name": "ipython",
    "version": 3
   },
   "file_extension": ".py",
   "mimetype": "text/x-python",
   "name": "python",
   "nbconvert_exporter": "python",
   "pygments_lexer": "ipython3",
   "version": "3.10.6"
  }
 },
 "nbformat": 4,
 "nbformat_minor": 5
}
