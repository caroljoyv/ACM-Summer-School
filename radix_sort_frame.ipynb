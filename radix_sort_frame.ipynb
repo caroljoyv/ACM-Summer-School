{
 "cells": [
  {
   "cell_type": "code",
   "execution_count": 9,
   "id": "fd7b0d00-1e9b-4477-b16b-00c13dd47875",
   "metadata": {},
   "outputs": [
    {
     "name": "stdout",
     "output_type": "stream",
     "text": [
      "\n",
      "\n",
      "AAGC\n",
      "ACTAG\n",
      "AGAG\n",
      "CACAGA\n",
      "CCGA\n",
      "CCG\n",
      "GGAT\n",
      "GTATG\n",
      "TCCG\n",
      "TGGTT\n",
      "TT\n",
      "T\n"
     ]
    }
   ],
   "source": [
    "#Returns strings sorted by positions from pos to maxPos\n",
    "def sortByPosition(strings,pos,maxPos):\n",
    "    if ((pos>maxPos) or (len(strings)<=1)):\n",
    "        return strings\n",
    "    tableA=[]\n",
    "    tableC=[]\n",
    "    tableG=[]\n",
    "    tableT=[]\n",
    "    tableNone=[]\n",
    "    sortedStrings=[]\n",
    "    \n",
    "    for i in range(0,len(strings)):\n",
    "        if (pos>=len(strings[i])):\n",
    "            tableNone.append(strings[i])\n",
    "        elif (strings[i][pos]=='A'):\n",
    "            tableA.append(strings[i])\n",
    "        elif (strings[i][pos]=='C'):\n",
    "            tableC.append(strings[i])\n",
    "        elif (strings[i][pos]=='G'):\n",
    "            tableG.append(strings[i])\n",
    "        else:\n",
    "            tableT.append(strings[i])\n",
    "    \n",
    "    #Make all recursive calls here\n",
    "    tableA = sortByPosition(tableA, pos+1, maxPos)\n",
    "    tableC = sortByPosition(tableC, pos+1, maxPos)\n",
    "    tableG = sortByPosition(tableG, pos+1, maxPos)\n",
    "    tableT = sortByPosition(tableT, pos+1, maxPos)\n",
    "    tableNone = sortByPosition(tableNone, pos+1, maxPos)\n",
    "    \n",
    "    #Concatenate the sorted tables into the sortedStrings array.\n",
    "    sortedStrings = tableA + tableC + tableG + tableT + tableNone \n",
    "    \n",
    "    return sortedStrings\n",
    "    \n",
    "fname=\"inputStrings.txt\"   \n",
    "with open(fname) as reader:\n",
    "    lines = reader.readlines()\n",
    "    strings = [x.strip() for x in lines]\n",
    "\n",
    "m=0\n",
    "for string in strings:    \n",
    "    m=max(m,len(string))\n",
    "\n",
    "strings=sortByPosition(strings,0,m-1)\n",
    "\n",
    "print('\\n')\n",
    "for string in strings:\n",
    "    print(string)    "
   ]
  },
  {
   "cell_type": "code",
   "execution_count": null,
   "id": "c09d89e7-1c01-4652-9d6b-607a1be5e5cc",
   "metadata": {},
   "outputs": [],
   "source": []
  },
  {
   "cell_type": "code",
   "execution_count": null,
   "id": "0a289fc4-56fe-47cb-9f8f-9ae3fd958df5",
   "metadata": {},
   "outputs": [],
   "source": []
  },
  {
   "cell_type": "code",
   "execution_count": null,
   "id": "7d2cd0e9-1958-41c8-bb48-59b90ce6935e",
   "metadata": {},
   "outputs": [],
   "source": []
  },
  {
   "cell_type": "code",
   "execution_count": null,
   "id": "e51b1d10-1d6c-4da2-a0ac-321c2812c66f",
   "metadata": {},
   "outputs": [],
   "source": []
  }
 ],
 "metadata": {
  "kernelspec": {
   "display_name": "env",
   "language": "python",
   "name": "env"
  },
  "language_info": {
   "codemirror_mode": {
    "name": "ipython",
    "version": 3
   },
   "file_extension": ".py",
   "mimetype": "text/x-python",
   "name": "python",
   "nbconvert_exporter": "python",
   "pygments_lexer": "ipython3",
   "version": "3.10.6"
  }
 },
 "nbformat": 4,
 "nbformat_minor": 5
}
